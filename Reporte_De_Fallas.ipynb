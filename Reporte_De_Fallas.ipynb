{
  "nbformat": 4,
  "nbformat_minor": 0,
  "metadata": {
    "colab": {
      "provenance": [],
      "collapsed_sections": [
        "X2xOAe_0R_Nz"
      ],
      "include_colab_link": true
    },
    "kernelspec": {
      "name": "python3",
      "display_name": "Python 3"
    },
    "language_info": {
      "name": "python"
    }
  },
  "cells": [
    {
      "cell_type": "markdown",
      "metadata": {
        "id": "view-in-github",
        "colab_type": "text"
      },
      "source": [
        "<a href=\"https://colab.research.google.com/github/Giomacias96/Estructura_de_Datos/blob/main/Reporte_De_Fallas.ipynb\" target=\"_parent\"><img src=\"https://colab.research.google.com/assets/colab-badge.svg\" alt=\"Open In Colab\"/></a>"
      ]
    },
    {
      "cell_type": "code",
      "execution_count": null,
      "metadata": {
        "id": "Styp7HwiRz6d"
      },
      "outputs": [],
      "source": [
        "import pandas as pd"
      ]
    },
    {
      "cell_type": "code",
      "source": [
        "df = pd.read_csv('export.csv')"
      ],
      "metadata": {
        "id": "LZWtOGQqS5UY"
      },
      "execution_count": null,
      "outputs": []
    },
    {
      "cell_type": "code",
      "source": [
        "import numpy as np\n",
        "import matplotlib.pyplot as plt                                                                                                                                                                       \n",
        "import matplotlib.ticker as plticker\n",
        "import seaborn as sns\n",
        "%matplotlib inline\n",
        "sns.set()\n",
        "plt.rc('figure', figsize=(15, 10))"
      ],
      "metadata": {
        "id": "UZWY3_IES6UC"
      },
      "execution_count": null,
      "outputs": []
    },
    {
      "cell_type": "code",
      "source": [
        "from collections import Counter"
      ],
      "metadata": {
        "id": "yQHcnE_WUVWD"
      },
      "execution_count": null,
      "outputs": []
    },
    {
      "cell_type": "markdown",
      "source": [
        "## **Gen4**"
      ],
      "metadata": {
        "id": "0fiVsMBFVMnq"
      }
    },
    {
      "cell_type": "code",
      "source": [
        "df_gen4 = pd.read_csv('export.csv')\n",
        "df_gen4[['skuno', 'sysserialno']].groupby('skuno').count()"
      ],
      "metadata": {
        "colab": {
          "base_uri": "https://localhost:8080/",
          "height": 206
        },
        "id": "3BB7SyGSVN91",
        "outputId": "ea9d72e8-db17-4710-de22-8d221b1efc3d"
      },
      "execution_count": null,
      "outputs": [
        {
          "output_type": "execute_result",
          "data": {
            "text/plain": [
              "                 sysserialno\n",
              "skuno                       \n",
              "1A627KB00-600-G            2\n",
              "1A62ABE00-600-G           74\n",
              "1A62H4300-600-G            2\n",
              "1A62H4B00-600-G            1"
            ],
            "text/html": [
              "\n",
              "  <div id=\"df-ee401b42-da1a-4b2c-b369-d3cb61a7f569\">\n",
              "    <div class=\"colab-df-container\">\n",
              "      <div>\n",
              "<style scoped>\n",
              "    .dataframe tbody tr th:only-of-type {\n",
              "        vertical-align: middle;\n",
              "    }\n",
              "\n",
              "    .dataframe tbody tr th {\n",
              "        vertical-align: top;\n",
              "    }\n",
              "\n",
              "    .dataframe thead th {\n",
              "        text-align: right;\n",
              "    }\n",
              "</style>\n",
              "<table border=\"1\" class=\"dataframe\">\n",
              "  <thead>\n",
              "    <tr style=\"text-align: right;\">\n",
              "      <th></th>\n",
              "      <th>sysserialno</th>\n",
              "    </tr>\n",
              "    <tr>\n",
              "      <th>skuno</th>\n",
              "      <th></th>\n",
              "    </tr>\n",
              "  </thead>\n",
              "  <tbody>\n",
              "    <tr>\n",
              "      <th>1A627KB00-600-G</th>\n",
              "      <td>2</td>\n",
              "    </tr>\n",
              "    <tr>\n",
              "      <th>1A62ABE00-600-G</th>\n",
              "      <td>74</td>\n",
              "    </tr>\n",
              "    <tr>\n",
              "      <th>1A62H4300-600-G</th>\n",
              "      <td>2</td>\n",
              "    </tr>\n",
              "    <tr>\n",
              "      <th>1A62H4B00-600-G</th>\n",
              "      <td>1</td>\n",
              "    </tr>\n",
              "  </tbody>\n",
              "</table>\n",
              "</div>\n",
              "      <button class=\"colab-df-convert\" onclick=\"convertToInteractive('df-ee401b42-da1a-4b2c-b369-d3cb61a7f569')\"\n",
              "              title=\"Convert this dataframe to an interactive table.\"\n",
              "              style=\"display:none;\">\n",
              "        \n",
              "  <svg xmlns=\"http://www.w3.org/2000/svg\" height=\"24px\"viewBox=\"0 0 24 24\"\n",
              "       width=\"24px\">\n",
              "    <path d=\"M0 0h24v24H0V0z\" fill=\"none\"/>\n",
              "    <path d=\"M18.56 5.44l.94 2.06.94-2.06 2.06-.94-2.06-.94-.94-2.06-.94 2.06-2.06.94zm-11 1L8.5 8.5l.94-2.06 2.06-.94-2.06-.94L8.5 2.5l-.94 2.06-2.06.94zm10 10l.94 2.06.94-2.06 2.06-.94-2.06-.94-.94-2.06-.94 2.06-2.06.94z\"/><path d=\"M17.41 7.96l-1.37-1.37c-.4-.4-.92-.59-1.43-.59-.52 0-1.04.2-1.43.59L10.3 9.45l-7.72 7.72c-.78.78-.78 2.05 0 2.83L4 21.41c.39.39.9.59 1.41.59.51 0 1.02-.2 1.41-.59l7.78-7.78 2.81-2.81c.8-.78.8-2.07 0-2.86zM5.41 20L4 18.59l7.72-7.72 1.47 1.35L5.41 20z\"/>\n",
              "  </svg>\n",
              "      </button>\n",
              "      \n",
              "  <style>\n",
              "    .colab-df-container {\n",
              "      display:flex;\n",
              "      flex-wrap:wrap;\n",
              "      gap: 12px;\n",
              "    }\n",
              "\n",
              "    .colab-df-convert {\n",
              "      background-color: #E8F0FE;\n",
              "      border: none;\n",
              "      border-radius: 50%;\n",
              "      cursor: pointer;\n",
              "      display: none;\n",
              "      fill: #1967D2;\n",
              "      height: 32px;\n",
              "      padding: 0 0 0 0;\n",
              "      width: 32px;\n",
              "    }\n",
              "\n",
              "    .colab-df-convert:hover {\n",
              "      background-color: #E2EBFA;\n",
              "      box-shadow: 0px 1px 2px rgba(60, 64, 67, 0.3), 0px 1px 3px 1px rgba(60, 64, 67, 0.15);\n",
              "      fill: #174EA6;\n",
              "    }\n",
              "\n",
              "    [theme=dark] .colab-df-convert {\n",
              "      background-color: #3B4455;\n",
              "      fill: #D2E3FC;\n",
              "    }\n",
              "\n",
              "    [theme=dark] .colab-df-convert:hover {\n",
              "      background-color: #434B5C;\n",
              "      box-shadow: 0px 1px 3px 1px rgba(0, 0, 0, 0.15);\n",
              "      filter: drop-shadow(0px 1px 2px rgba(0, 0, 0, 0.3));\n",
              "      fill: #FFFFFF;\n",
              "    }\n",
              "  </style>\n",
              "\n",
              "      <script>\n",
              "        const buttonEl =\n",
              "          document.querySelector('#df-ee401b42-da1a-4b2c-b369-d3cb61a7f569 button.colab-df-convert');\n",
              "        buttonEl.style.display =\n",
              "          google.colab.kernel.accessAllowed ? 'block' : 'none';\n",
              "\n",
              "        async function convertToInteractive(key) {\n",
              "          const element = document.querySelector('#df-ee401b42-da1a-4b2c-b369-d3cb61a7f569');\n",
              "          const dataTable =\n",
              "            await google.colab.kernel.invokeFunction('convertToInteractive',\n",
              "                                                     [key], {});\n",
              "          if (!dataTable) return;\n",
              "\n",
              "          const docLinkHtml = 'Like what you see? Visit the ' +\n",
              "            '<a target=\"_blank\" href=https://colab.research.google.com/notebooks/data_table.ipynb>data table notebook</a>'\n",
              "            + ' to learn more about interactive tables.';\n",
              "          element.innerHTML = '';\n",
              "          dataTable['output_type'] = 'display_data';\n",
              "          await google.colab.output.renderOutput(dataTable, element);\n",
              "          const docLink = document.createElement('div');\n",
              "          docLink.innerHTML = docLinkHtml;\n",
              "          element.appendChild(docLink);\n",
              "        }\n",
              "      </script>\n",
              "    </div>\n",
              "  </div>\n",
              "  "
            ]
          },
          "metadata": {},
          "execution_count": 5
        }
      ]
    },
    {
      "cell_type": "code",
      "source": [
        "df_gen4[['workorderno', 'sysserialno']].groupby('workorderno').count()"
      ],
      "metadata": {
        "colab": {
          "base_uri": "https://localhost:8080/",
          "height": 238
        },
        "id": "G_el3X9gVQ5Z",
        "outputId": "b69d54ef-b629-49b4-efc3-4e90caf4f06c"
      },
      "execution_count": null,
      "outputs": [
        {
          "output_type": "execute_result",
          "data": {
            "text/plain": [
              "             sysserialno\n",
              "workorderno             \n",
              "1850085403             2\n",
              "1850085407             2\n",
              "1850085409             1\n",
              "1850085412            32\n",
              "1850085413            42"
            ],
            "text/html": [
              "\n",
              "  <div id=\"df-3bb54ca4-4b9b-4ae2-a474-900270747920\">\n",
              "    <div class=\"colab-df-container\">\n",
              "      <div>\n",
              "<style scoped>\n",
              "    .dataframe tbody tr th:only-of-type {\n",
              "        vertical-align: middle;\n",
              "    }\n",
              "\n",
              "    .dataframe tbody tr th {\n",
              "        vertical-align: top;\n",
              "    }\n",
              "\n",
              "    .dataframe thead th {\n",
              "        text-align: right;\n",
              "    }\n",
              "</style>\n",
              "<table border=\"1\" class=\"dataframe\">\n",
              "  <thead>\n",
              "    <tr style=\"text-align: right;\">\n",
              "      <th></th>\n",
              "      <th>sysserialno</th>\n",
              "    </tr>\n",
              "    <tr>\n",
              "      <th>workorderno</th>\n",
              "      <th></th>\n",
              "    </tr>\n",
              "  </thead>\n",
              "  <tbody>\n",
              "    <tr>\n",
              "      <th>1850085403</th>\n",
              "      <td>2</td>\n",
              "    </tr>\n",
              "    <tr>\n",
              "      <th>1850085407</th>\n",
              "      <td>2</td>\n",
              "    </tr>\n",
              "    <tr>\n",
              "      <th>1850085409</th>\n",
              "      <td>1</td>\n",
              "    </tr>\n",
              "    <tr>\n",
              "      <th>1850085412</th>\n",
              "      <td>32</td>\n",
              "    </tr>\n",
              "    <tr>\n",
              "      <th>1850085413</th>\n",
              "      <td>42</td>\n",
              "    </tr>\n",
              "  </tbody>\n",
              "</table>\n",
              "</div>\n",
              "      <button class=\"colab-df-convert\" onclick=\"convertToInteractive('df-3bb54ca4-4b9b-4ae2-a474-900270747920')\"\n",
              "              title=\"Convert this dataframe to an interactive table.\"\n",
              "              style=\"display:none;\">\n",
              "        \n",
              "  <svg xmlns=\"http://www.w3.org/2000/svg\" height=\"24px\"viewBox=\"0 0 24 24\"\n",
              "       width=\"24px\">\n",
              "    <path d=\"M0 0h24v24H0V0z\" fill=\"none\"/>\n",
              "    <path d=\"M18.56 5.44l.94 2.06.94-2.06 2.06-.94-2.06-.94-.94-2.06-.94 2.06-2.06.94zm-11 1L8.5 8.5l.94-2.06 2.06-.94-2.06-.94L8.5 2.5l-.94 2.06-2.06.94zm10 10l.94 2.06.94-2.06 2.06-.94-2.06-.94-.94-2.06-.94 2.06-2.06.94z\"/><path d=\"M17.41 7.96l-1.37-1.37c-.4-.4-.92-.59-1.43-.59-.52 0-1.04.2-1.43.59L10.3 9.45l-7.72 7.72c-.78.78-.78 2.05 0 2.83L4 21.41c.39.39.9.59 1.41.59.51 0 1.02-.2 1.41-.59l7.78-7.78 2.81-2.81c.8-.78.8-2.07 0-2.86zM5.41 20L4 18.59l7.72-7.72 1.47 1.35L5.41 20z\"/>\n",
              "  </svg>\n",
              "      </button>\n",
              "      \n",
              "  <style>\n",
              "    .colab-df-container {\n",
              "      display:flex;\n",
              "      flex-wrap:wrap;\n",
              "      gap: 12px;\n",
              "    }\n",
              "\n",
              "    .colab-df-convert {\n",
              "      background-color: #E8F0FE;\n",
              "      border: none;\n",
              "      border-radius: 50%;\n",
              "      cursor: pointer;\n",
              "      display: none;\n",
              "      fill: #1967D2;\n",
              "      height: 32px;\n",
              "      padding: 0 0 0 0;\n",
              "      width: 32px;\n",
              "    }\n",
              "\n",
              "    .colab-df-convert:hover {\n",
              "      background-color: #E2EBFA;\n",
              "      box-shadow: 0px 1px 2px rgba(60, 64, 67, 0.3), 0px 1px 3px 1px rgba(60, 64, 67, 0.15);\n",
              "      fill: #174EA6;\n",
              "    }\n",
              "\n",
              "    [theme=dark] .colab-df-convert {\n",
              "      background-color: #3B4455;\n",
              "      fill: #D2E3FC;\n",
              "    }\n",
              "\n",
              "    [theme=dark] .colab-df-convert:hover {\n",
              "      background-color: #434B5C;\n",
              "      box-shadow: 0px 1px 3px 1px rgba(0, 0, 0, 0.15);\n",
              "      filter: drop-shadow(0px 1px 2px rgba(0, 0, 0, 0.3));\n",
              "      fill: #FFFFFF;\n",
              "    }\n",
              "  </style>\n",
              "\n",
              "      <script>\n",
              "        const buttonEl =\n",
              "          document.querySelector('#df-3bb54ca4-4b9b-4ae2-a474-900270747920 button.colab-df-convert');\n",
              "        buttonEl.style.display =\n",
              "          google.colab.kernel.accessAllowed ? 'block' : 'none';\n",
              "\n",
              "        async function convertToInteractive(key) {\n",
              "          const element = document.querySelector('#df-3bb54ca4-4b9b-4ae2-a474-900270747920');\n",
              "          const dataTable =\n",
              "            await google.colab.kernel.invokeFunction('convertToInteractive',\n",
              "                                                     [key], {});\n",
              "          if (!dataTable) return;\n",
              "\n",
              "          const docLinkHtml = 'Like what you see? Visit the ' +\n",
              "            '<a target=\"_blank\" href=https://colab.research.google.com/notebooks/data_table.ipynb>data table notebook</a>'\n",
              "            + ' to learn more about interactive tables.';\n",
              "          element.innerHTML = '';\n",
              "          dataTable['output_type'] = 'display_data';\n",
              "          await google.colab.output.renderOutput(dataTable, element);\n",
              "          const docLink = document.createElement('div');\n",
              "          docLink.innerHTML = docLinkHtml;\n",
              "          element.appendChild(docLink);\n",
              "        }\n",
              "      </script>\n",
              "    </div>\n",
              "  </div>\n",
              "  "
            ]
          },
          "metadata": {},
          "execution_count": 6
        }
      ]
    },
    {
      "cell_type": "code",
      "source": [
        "df_gen4 = df_gen4[df_gen4['failureeventpoint'].notna() & (df_gen4['description'].str.contains('IQPanelGen4') | df_gen4['description'].str.contains('IQ Panel 4') | df_gen4['description'].str.contains('IQ Panel4') | df_gen4['description'].str.contains('IQPanel4') | df_gen4['description'].str.contains('IQ4Hub'))]\n",
        "\n",
        "if not df_gen4.empty:\n",
        "    c = Counter(df_gen4.flag)\n",
        "    bar = plt.bar(c.keys(), c.values())\n",
        "    bar[0].set_color('y')\n",
        "    bar[1].set_color('b')\n",
        "    bar[2].set_color('r')\n",
        "    plt.title('Fallas por tipo')"
      ],
      "metadata": {
        "colab": {
          "base_uri": "https://localhost:8080/",
          "height": 610
        },
        "id": "Q8KSOSeCVYvz",
        "outputId": "a081905b-b11a-478c-ff9a-91eb7c3aac21"
      },
      "execution_count": null,
      "outputs": [
        {
          "output_type": "display_data",
          "data": {
            "text/plain": [
              "<Figure size 1080x720 with 1 Axes>"
            ],
            "image/png": "[encoded data removed]"
          },
          "metadata": {}
        }
      ]
    },
    {
      "cell_type": "markdown",
      "source": [
        "Por Codigo de Falla"
      ],
      "metadata": {
        "id": "ey2OYAaRXD_3"
      }
    },
    {
      "cell_type": "code",
      "source": [
        "cleaned = df_gen4[df_gen4['failurecode'].notna()]\n",
        "c= Counter(cleaned.failurecode)\n",
        "plt.xticks(rotation=90)\n",
        "\n",
        "#plt.ylim([0, 100])\n",
        "\n",
        "#plt.yticks(np.arange(0, 100, 1.0))\n",
        "\n",
        "plt.bar(c.keys(), c.values())\n",
        "plt.title('Fallas por codigo')\n",
        "plt.ylabel('Fallas');"
      ],
      "metadata": {
        "colab": {
          "base_uri": "https://localhost:8080/",
          "height": 705
        },
        "id": "Pua2kRR7Vcwu",
        "outputId": "e45e5dd9-9bbb-40b8-a158-9e58ced2575b"
      },
      "execution_count": null,
      "outputs": [
        {
          "output_type": "display_data",
          "data": {
            "text/plain": [
              "<Figure size 1080x720 with 1 Axes>"
            ],
            "image/png": "[encoded data removed]"
          },
          "metadata": {}
        }
      ]
    },
    {
      "cell_type": "markdown",
      "source": [
        "Rear Mic"
      ],
      "metadata": {
        "id": "beauaBweCdP1"
      }
    },
    {
      "cell_type": "code",
      "source": [
        "rear = df_gen4[(df_gen4.failurecode == 'RearMic')]\n",
        "\n",
        "if not rear.empty:\n",
        "    times = pd.to_datetime(rear.failuredate)\n",
        "    pd.crosstab(times.dt.hour, rear['failurepdline']).plot.bar()\n",
        "    print(rear.flag.count())"
      ],
      "metadata": {
        "id": "1DuTRy6aXQBj",
        "colab": {
          "base_uri": "https://localhost:8080/",
          "height": 625
        },
        "outputId": "4500d943-fb18-4738-a143-8f6f904915d7"
      },
      "execution_count": null,
      "outputs": [
        {
          "output_type": "stream",
          "name": "stdout",
          "text": [
            "3\n"
          ]
        },
        {
          "output_type": "display_data",
          "data": {
            "text/plain": [
              "<Figure size 1080x720 with 1 Axes>"
            ],
            "image/png": "[encoded data removed]"
          },
          "metadata": {}
        }
      ]
    },
    {
      "cell_type": "code",
      "source": [
        "from IPython.display import Markdown as md\n",
        "total = df_gen4[df_gen4.flag == 'RETRY']\n",
        "total = total.flag.count()\n",
        "md('# Restries totales: {}'.format(total))"
      ],
      "metadata": {
        "colab": {
          "base_uri": "https://localhost:8080/",
          "height": 74
        },
        "id": "iRvk2WWwXScQ",
        "outputId": "c74d853c-abc2-485d-b865-a02637716fb1"
      },
      "execution_count": null,
      "outputs": [
        {
          "output_type": "execute_result",
          "data": {
            "text/plain": [
              "<IPython.core.display.Markdown object>"
            ],
            "text/markdown": "# Restries totales: 13"
          },
          "metadata": {},
          "execution_count": 10
        }
      ]
    },
    {
      "cell_type": "markdown",
      "source": [
        "Front Mics"
      ],
      "metadata": {
        "id": "tn-v8DItCaU-"
      }
    },
    {
      "cell_type": "code",
      "source": [
        "front = df_gen4[(df_gen4.failurecode == 'FrontMics')]\n",
        "\n",
        "if not front.empty:\n",
        "    times = pd.to_datetime(front.failuredate)\n",
        "    pd.crosstab(times.dt.hour, front['failurepdline']).plot.bar()"
      ],
      "metadata": {
        "id": "vpem4lVSXVmz",
        "colab": {
          "base_uri": "https://localhost:8080/",
          "height": 615
        },
        "outputId": "81180c4d-d214-4afd-986f-3334da00f24e"
      },
      "execution_count": null,
      "outputs": [
        {
          "output_type": "display_data",
          "data": {
            "text/plain": [
              "<Figure size 1080x720 with 1 Axes>"
            ],
            "image/png": "[encoded data removed]"
          },
          "metadata": {}
        }
      ]
    },
    {
      "cell_type": "markdown",
      "source": [
        "PowerG Card"
      ],
      "metadata": {
        "id": "eZX7SK_UYzo1"
      }
    },
    {
      "cell_type": "code",
      "source": [
        "powerg = df[(df.failurecode == 'PowerGCardDetect')] #& (df.flag == 'RETRY')]\n",
        "times = pd.to_datetime(powerg.failuredate)\n",
        "\n",
        "if not powerg.empty:\n",
        "    times = pd.to_datetime(powerg.failuredate)\n",
        "    pd.crosstab(times.dt.hour, powerg['failurepdline']).plot.bar()\n",
        "    plt.ylabel('Fallas')\n",
        "    plt.xlabel('Hora')\n",
        "    print(\"Total: \",powerg.failurecode.count())"
      ],
      "metadata": {
        "id": "2ZRS3NseZCpE",
        "colab": {
          "base_uri": "https://localhost:8080/",
          "height": 625
        },
        "outputId": "266f2433-c9c9-482c-e4aa-9bc3644817a9"
      },
      "execution_count": null,
      "outputs": [
        {
          "output_type": "stream",
          "name": "stdout",
          "text": [
            "Total:  3\n"
          ]
        },
        {
          "output_type": "display_data",
          "data": {
            "text/plain": [
              "<Figure size 1080x720 with 1 Axes>"
            ],
            "image/png": "[encoded data removed]"
          },
          "metadata": {}
        }
      ]
    },
    {
      "cell_type": "markdown",
      "source": [
        "SRF"
      ],
      "metadata": {
        "id": "EAmBUj_GSRgi"
      }
    },
    {
      "cell_type": "code",
      "source": [
        "srf = df_gen4[(df.failurecode == 'SRF') & (df.flag == 'RETRY') ]\n",
        "\n",
        "if not srf.empty:\n",
        "    times = pd.to_datetime(srf.failuredate)\n",
        "    pd.crosstab(times.dt.hour, srf['failurepdline']).plot.bar()\n",
        "    print(srf.groupby('failurepdline')['failurecode'].count())"
      ],
      "metadata": {
        "id": "tosYIhvSXYgH",
        "colab": {
          "base_uri": "https://localhost:8080/",
          "height": 702
        },
        "outputId": "1a96452c-c8eb-42dc-f35b-9e419e150b7b"
      },
      "execution_count": null,
      "outputs": [
        {
          "output_type": "stream",
          "name": "stdout",
          "text": [
            "failurepdline\n",
            "L2-2    1\n",
            "L2-4    3\n",
            "L3-4    2\n",
            "Name: failurecode, dtype: int64\n"
          ]
        },
        {
          "output_type": "display_data",
          "data": {
            "text/plain": [
              "<Figure size 1080x720 with 1 Axes>"
            ],
            "image/png": "[encoded data removed]"
          },
          "metadata": {}
        }
      ]
    },
    {
      "cell_type": "markdown",
      "source": [
        "Zwave Card Detect"
      ],
      "metadata": {
        "id": "e06Z6RbiZR0c"
      }
    },
    {
      "cell_type": "code",
      "source": [
        "zwave = df_gen4[(df.failurecode == 'ZwaveCardDetect') & (df.flag == 'RETRY') ]\n",
        "\n",
        "if not zwave.empty:\n",
        "    times = pd.to_datetime(zwave.failuredate)\n",
        "    pd.crosstab(times.dt.hour, zwave['failurepdline']).plot.bar()\n",
        "    #print(zwave.groupby('sysserialno')['failurecode'].count())"
      ],
      "metadata": {
        "id": "cBgOUtPBXvv_",
        "colab": {
          "base_uri": "https://localhost:8080/",
          "height": 615
        },
        "outputId": "a6595b99-9ea9-47f0-ba4a-7c8798e77320"
      },
      "execution_count": null,
      "outputs": [
        {
          "output_type": "display_data",
          "data": {
            "text/plain": [
              "<Figure size 1080x720 with 1 Axes>"
            ],
            "image/png": "[encoded data removed]"
          },
          "metadata": {}
        }
      ]
    },
    {
      "cell_type": "markdown",
      "source": [
        "CMDL"
      ],
      "metadata": {
        "id": "ZBLUERiPCLXm"
      }
    },
    {
      "cell_type": "code",
      "source": [
        "cmdl = df_gen4[(df.failureeventpoint == 'CMDL')]\n",
        "\n",
        "if not cmdl.empty:\n",
        "    times = pd.to_datetime(cmdl.failuredate)\n",
        "    pd.crosstab(times.dt.hour, cmdl['failurepdline']).plot.bar()\n",
        "    print(\"Total: \",cmdl.failureeventpoint.count())\n",
        "    print(cmdl.groupby('failurepdline')['failurecode'].count())"
      ],
      "metadata": {
        "colab": {
          "base_uri": "https://localhost:8080/",
          "height": 754
        },
        "id": "-ZwOc-ovZ2e8",
        "outputId": "b335d63c-fb81-4ec7-e4d8-f43ec66dce3f"
      },
      "execution_count": null,
      "outputs": [
        {
          "output_type": "stream",
          "name": "stdout",
          "text": [
            "Total:  10\n",
            "failurepdline\n",
            "L1-2    4\n",
            "L1-3    1\n",
            "L2-1    1\n",
            "L3-1    3\n",
            "L3-3    1\n",
            "Name: failurecode, dtype: int64\n"
          ]
        },
        {
          "output_type": "display_data",
          "data": {
            "text/plain": [
              "<Figure size 1080x720 with 1 Axes>"
            ],
            "image/png": "[encoded data removed]"
          },
          "metadata": {}
        }
      ]
    },
    {
      "cell_type": "markdown",
      "source": [
        "No Video"
      ],
      "metadata": {
        "id": "oiC8zAaWVKYr"
      }
    },
    {
      "cell_type": "code",
      "source": [
        "no_video = df_gen4[(df.failureeventpoint == 'CMDL') & (df.actiondesc == 'Flasheo')]\n",
        "\n",
        "if not no_video.empty:\n",
        "    times = pd.to_datetime(cmdl.failuredate)\n",
        "    pd.crosstab(times.dt.hour, no_video['failurepdline']).plot.bar()\n",
        "    print(\"Total: \",no_video.failureeventpoint.count())\n",
        "    print(no_video.groupby('failurepdline')['failurecode'].count())"
      ],
      "metadata": {
        "colab": {
          "base_uri": "https://localhost:8080/",
          "height": 754
        },
        "id": "n4V0PC_RVO5c",
        "outputId": "070f92f1-15d1-499a-daa6-4a6d4c7a261c"
      },
      "execution_count": null,
      "outputs": [
        {
          "output_type": "stream",
          "name": "stdout",
          "text": [
            "Total:  10\n",
            "failurepdline\n",
            "L1-2    4\n",
            "L1-3    1\n",
            "L2-1    1\n",
            "L3-1    3\n",
            "L3-3    1\n",
            "Name: failurecode, dtype: int64\n"
          ]
        },
        {
          "output_type": "display_data",
          "data": {
            "text/plain": [
              "<Figure size 1080x720 with 1 Axes>"
            ],
            "image/png": "[encoded data removed]"
          },
          "metadata": {}
        }
      ]
    },
    {
      "cell_type": "markdown",
      "source": [
        "##Gen2"
      ],
      "metadata": {
        "id": "X2xOAe_0R_Nz"
      }
    },
    {
      "cell_type": "code",
      "source": [
        "df = df[df['failurecode'].notna() & (df['description'].str.contains('IQPanel2'))]\n",
        "\n",
        "if not df.empty:\n",
        "    c = Counter(df.flag)\n",
        "    bar = plt.bar(c.keys(), c.values())\n",
        "    bar[0].set_color('y')\n",
        "    bar[1].set_color('b')\n",
        "    #bar[2].set_color('r')\n",
        "    plt.title('Fallas por tipo')"
      ],
      "metadata": {
        "id": "K1wpsbvaUatI"
      },
      "execution_count": null,
      "outputs": []
    },
    {
      "cell_type": "code",
      "source": [
        "df2 = df[df['failurecode'].astype(bool)]\n",
        "cleaned = df2[df2['failurecode'].notna()]\n",
        "c= Counter(cleaned.failurecode)\n",
        "plt.xticks(rotation=90)\n",
        "\n",
        "#plt.ylim([0, 100])\n",
        "\n",
        "#plt.yticks(np.arange(0, 100, 1.0))\n",
        "\n",
        "plt.bar(c.keys(), c.values())\n",
        "plt.title('Fallas por codigo')\n",
        "plt.ylabel('Fallas');"
      ],
      "metadata": {
        "colab": {
          "base_uri": "https://localhost:8080/",
          "height": 634
        },
        "id": "VYLCO0WdUdeQ",
        "outputId": "a774fc77-c8b5-4fc5-d5d1-c5c3ffe86664"
      },
      "execution_count": null,
      "outputs": [
        {
          "output_type": "display_data",
          "data": {
            "text/plain": [
              "<Figure size 1080x720 with 1 Axes>"
            ],
            "image/png": "[encoded data removed]"
          },
          "metadata": {}
        }
      ]
    },
    {
      "cell_type": "code",
      "source": [
        "powerg = df[(df.failurecode == 'POWERG_END_TO_END') & (df.flag == 'RETRY')]\n",
        "times = pd.to_datetime(powerg.failuredate)\n",
        "\n",
        "if not powerg.empty:\n",
        "    times = pd.to_datetime(powerg.failuredate)\n",
        "    pd.crosstab(times.dt.hour, powerg['failurepdline']).plot.bar()\n",
        "    plt.ylabel('Fallas')\n",
        "    plt.xlabel('Hora')"
      ],
      "metadata": {
        "id": "6c9SaqiBUg0d"
      },
      "execution_count": null,
      "outputs": []
    },
    {
      "cell_type": "code",
      "source": [
        "srf = df[(df.failurecode == 'SRF_END_TO_END') & (df.flag == 'RETRY') ]\n",
        "\n",
        "if not srf.empty:\n",
        "    times = pd.to_datetime(srf.failuredate)\n",
        "    pd.crosstab(times.dt.hour, srf['failurepdline']).plot.bar()"
      ],
      "metadata": {
        "id": "1_e7m62xV4oO"
      },
      "execution_count": null,
      "outputs": []
    },
    {
      "cell_type": "code",
      "source": [
        "if not df.empty:\n",
        "    c = Counter(df.flag)\n",
        "    bar = plt.bar(c.keys(), c.values())\n",
        "    bar[0].set_color('y')\n",
        "    bar[1].set_color('b')\n",
        "    #bar[2].set_color('r')\n",
        "    plt.title('Fallas por tipo')"
      ],
      "metadata": {
        "id": "CRs89aR1UmCh"
      },
      "execution_count": null,
      "outputs": []
    },
    {
      "cell_type": "code",
      "source": [
        "iccid = df[(df.failurecode == 'ICCID') & (df.flag == 'RETRY') ]\n",
        "times = pd.to_datetime(iccid.failuredate)\n",
        "\n",
        "\n",
        "#plt.xlim([6, 24])\n",
        "if not iccid.empty:\n",
        "    plt.xlim([6, 24])\n",
        "    plt.xticks(np.arange(6, 24, 1.0))\n",
        "    plt.ylim([0, 10])\n",
        "    plt.yticks(np.arange(0, 10, 1.0))\n",
        "    iccid.groupby([times.dt.hour])['failurecode'].count().plot.bar()\n",
        "    plt.title('ICCID')\n",
        "    plt.xlabel('Hora')\n",
        "    plt.ylabel('Fallas')"
      ],
      "metadata": {
        "id": "iZfyNT-aUoYL"
      },
      "execution_count": null,
      "outputs": []
    },
    {
      "cell_type": "code",
      "source": [
        "wifi = df[(df.failurecode == 'WIFI') & (df.flag == 'RETRY') ]\n",
        "times = pd.to_datetime(wifi.failuredate)\n",
        "\n",
        "if not wifi.empty:\n",
        "    pd.crosstab(times.dt.hour, wifi['failurepdline']).plot.bar()"
      ],
      "metadata": {
        "id": "RfijImeYVEsX"
      },
      "execution_count": null,
      "outputs": []
    },
    {
      "cell_type": "code",
      "source": [
        "storage = df[(df.failurecode == 'STORAGE') & (df.flag == 'RETRY') ]\n",
        "times = pd.to_datetime(storage.failuredate)\n",
        "\n",
        "if not storage.empty:\n",
        "    pd.crosstab(times.dt.hour, storage['failurepdline']).plot.bar()"
      ],
      "metadata": {
        "id": "ZBhV7aYWUubI"
      },
      "execution_count": null,
      "outputs": []
    },
    {
      "cell_type": "code",
      "source": [
        "cmdl = df[(df.failureeventpoint == 'CMDL')]\n",
        "\n",
        "if not cmdl.empty:\n",
        "    times = pd.to_datetime(cmdl.failuredate)\n",
        "    pd.crosstab(times.dt.hour, cmdl['failurepdline']).plot.bar()"
      ],
      "metadata": {
        "id": "DZW3LxfRUyZ8"
      },
      "execution_count": null,
      "outputs": []
    }
  ]
}